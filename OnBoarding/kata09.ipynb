{
 "cells": [
  {
   "cell_type": "code",
   "execution_count": 5,
   "metadata": {},
   "outputs": [
    {
     "name": "stdout",
     "output_type": "stream",
     "text": [
      "Reporte de combustible:\n",
      "    Promedio: 20.0%\n",
      "    Tanque 1: 10%\n",
      "    Tanque 2: 20%\n",
      "    Tanque 3: 30% \n",
      "    \n"
     ]
    }
   ],
   "source": [
    "# Función para leer 3 tanques de combustible y muestre el promedio\n",
    "def reporte(tanque1, tanque2, tanque3):\n",
    "    return f\"\"\"Reporte de combustible:\n",
    "    Promedio: {average(tanque1, tanque2, tanque3)}%\n",
    "    Tanque 1: {tanque1}\n",
    "    Tanque 2: {tanque2}\n",
    "    Tanque 3: {tanque3}\n",
    "    \"\"\"\n",
    "\n",
    "def average(tanque1, tanque2, tanque3):\n",
    "    return (tanque1+tanque2+tanque3) / 3\n",
    "\n",
    "# Llamamos a la función que genera el reporte\n",
    "print(reporte(10, 20, 30))"
   ]
  },
  {
   "cell_type": "code",
   "execution_count": 19,
   "metadata": {},
   "outputs": [
    {
     "name": "stdout",
     "output_type": "stream",
     "text": [
      "Reporte 1 de la misión:\n",
      "    Destino: Tierra\n",
      "    Tiempo hasta el destino: 50\n",
      "    Combustible a la izquierda: 1200\n",
      "    \n",
      "Reporte 2 de la misión:\n",
      "    Destino: Tierra\n",
      "    Tiempo hasta el destino: 1972\n",
      "    Combustible a la izquierda: 10600\n",
      "\n",
      "    Detalle del combustible: \n",
      "tanqueExterno tiene 10000 galones\n",
      "tanqueinterno tiene 200 galones\n",
      "tanqueX tiene 400 galones\n",
      "\n",
      "    \n"
     ]
    }
   ],
   "source": [
    "# Función para leer 3 tanques de combustible y muestre el promedio\n",
    "def reporteMision1(horaPrelanzamiento, tiempoVuelo, destino, tanqueExterno, tanqueInterno):\n",
    "    return f\"\"\"Reporte 1 de la misión:\n",
    "    Destino: {destino}\n",
    "    Tiempo hasta el destino: {horaPrelanzamiento + tiempoVuelo}\n",
    "    Combustible a la izquierda: {tanqueExterno + tanqueInterno}\n",
    "    \"\"\"\n",
    "\n",
    "def reporteMision2(destino, *minutos, **tanques):\n",
    "    tanquesDetalle = '\\n'\n",
    "    for nombreTanque, combustible in tanques.items():\n",
    "        tanquesDetalle += f\"{nombreTanque} tiene {combustible} galones\\n\"\n",
    "\n",
    "    return f\"\"\"Reporte 2 de la misión:\n",
    "    Destino: {destino}\n",
    "    Tiempo hasta el destino: {sum(minutos)}\n",
    "    Combustible a la izquierda: {sum(tanques.values())}\n",
    "\n",
    "    Detalle del combustible: {tanquesDetalle}\n",
    "    \"\"\"\n",
    "\n",
    "\n",
    "print(reporteMision1(10, 40, \"Tierra\", 1000, 200))\n",
    "\n",
    "print(reporteMision2(\"Tierra\", 1000, 200, 300, 200, 87, 87, 98, tanqueExterno=10000, tanqueinterno=200, tanqueX=400))"
   ]
  }
 ],
 "metadata": {
  "interpreter": {
   "hash": "2be5faf79681da6f2a61fdfdd5405d65d042280f7fba6178067603e3a2925119"
  },
  "kernelspec": {
   "display_name": "Python 3.10.2 64-bit",
   "language": "python",
   "name": "python3"
  },
  "language_info": {
   "codemirror_mode": {
    "name": "ipython",
    "version": 3
   },
   "file_extension": ".py",
   "mimetype": "text/x-python",
   "name": "python",
   "nbconvert_exporter": "python",
   "pygments_lexer": "ipython3",
   "version": "3.10.2"
  },
  "orig_nbformat": 4
 },
 "nbformat": 4,
 "nbformat_minor": 2
}
